{
 "cells": [
  {
   "cell_type": "markdown",
   "metadata": {},
   "source": [
    "# Instructons to use"
   ]
  },
  {
   "cell_type": "markdown",
   "metadata": {},
   "source": [
    "### To load and initate relationships between the 18 orgs downloaded Run the cells below the markdown cells"
   ]
  },
  {
   "cell_type": "markdown",
   "metadata": {},
   "source": [
    "Run cell"
   ]
  },
  {
   "cell_type": "code",
   "execution_count": null,
   "metadata": {
    "collapsed": true,
    "scrolled": false
   },
   "outputs": [],
   "source": [
    "## Import neo4j.v1 to interface with neo4j database and jsonn to read and manipulate the json files\n",
    "from neo4j.v1 import GraphDatabase, basic_auth\n",
    "import json"
   ]
  },
  {
   "cell_type": "markdown",
   "metadata": {},
   "source": [
    "Run cell"
   ]
  },
  {
   "cell_type": "code",
   "execution_count": null,
   "metadata": {
    "collapsed": true
   },
   "outputs": [],
   "source": [
    "## establishes the connection to the neo4j database to use \n",
    "\n",
    "driver = GraphDatabase.driver(\"/Users/jgossess/Documents/Neo4j/gitScrape_demo1\", auth=basic_auth(\"neo4J\", \"test\"))\n",
    "# driver = GraphDatabase.driver(\"<insert path to database>\", auth=basic_auth(\"<insert username>\", \"<insert password>\"))"
   ]
  },
  {
   "cell_type": "code",
   "execution_count": null,
   "metadata": {
    "collapsed": true
   },
   "outputs": [],
   "source": [
    "## read in the json file \n",
    "data = ''\n",
    "with open(\"scraped/nasa.json\", 'r') as jsonf:\n",
    "    data = jsonf.read()"
   ]
  },
  {
   "cell_type": "code",
   "execution_count": null,
   "metadata": {
    "collapsed": true
   },
   "outputs": [],
   "source": [
    "## load the json file into a json object\n",
    "json_data = json.loads(data)"
   ]
  },
  {
   "cell_type": "code",
   "execution_count": null,
   "metadata": {
    "collapsed": true,
    "scrolled": true
   },
   "outputs": [],
   "source": [
    "## create nodes for each file, explicit dependency, org, and repo in the neo4j database\n",
    "lod = 0\n",
    "pss = 0\n",
    "## This statement creates a node for an org if the node does not yet exist \n",
    "create_org = \"MERGE (o:org {name: {org}, org_link: {org_link}})\"\n",
    "## This statement creates a node for a dependency if the node does not yet exist\n",
    "create_dep = \"MERGE (d:dependency {name: {dep}})\"\n",
    "## This statement creates a node for a repo if the node does not yet exist\n",
    "create_repo = \"MERGE (r:repo {name: {repo}, repo_link: {repo_link}, org: {org}})\"\n",
    "## This statement creates a node for a file if the node does not yet exist\n",
    "create_file = \"MERGE (a:file {org: {org}, org_link: {org_link}, repo: {repo}, repo_link: {repo_link}, filename: {filename}, explicit_dep: {explicit_dep}, implicit_dep: {implicit_dep}})\"\n",
    "\n",
    "## This goes through the entries in the json and will creates nodes for all the new orgs, files, repos, and dependencies\n",
    "for entry in range(len(json_data)):\n",
    "    ## if there is a failure in the upload it will print the exception as well as the jsonfor the problem information\n",
    "    try:\n",
    "        prop = json_data[entry]\n",
    "        prop['explicit_dep'] = [x for x in prop['explicit_dep'] if x != None]\n",
    "        with driver.session() as session:\n",
    "            session.run(create_org, prop)\n",
    "            session.run(create_repo, prop)\n",
    "            session.run(create_file, prop)\n",
    "            for dep in prop['explicit_dep']:\n",
    "                dep = {'dep': dep}\n",
    "                session.run(create_dep, dep)\n",
    "            session.sync()\n",
    "        lod+=1\n",
    "    except Exception as e:\n",
    "        print(str(e))\n",
    "        print(entry)\n",
    "        pss+=1\n",
    "        pass\n",
    "print(\"loaded: \"+str(lod))\n",
    "print('skipped: '+str(pss))"
   ]
  },
  {
   "cell_type": "markdown",
   "metadata": {
    "collapsed": true
   },
   "source": [
    "# Use this to load all repos into neo4j"
   ]
  },
  {
   "cell_type": "markdown",
   "metadata": {},
   "source": [
    "Run cell"
   ]
  },
  {
   "cell_type": "code",
   "execution_count": null,
   "metadata": {
    "collapsed": true
   },
   "outputs": [],
   "source": [
    "def load_neo4j(json_data):\n",
    "    \"\"\"Uploads the passed json data to neo4j database\"\"\"\n",
    "    lod = 0\n",
    "    pss = 0\n",
    "    ## Statement to create org node if it does not exist\n",
    "    create_org = \"MERGE (o:org {name: {org}, org_link: {org_link}})\"\n",
    "    ## Statement to create dependency node if it does not exist\n",
    "    create_dep = \"MERGE (d:dependency {name: {dep}})\"\n",
    "    ## Statement to create repo node if it does not exist\n",
    "    create_repo = \"MERGE (r:repo {name: {repo}, repo_link: {repo_link}, org: {org}})\"\n",
    "    ## Statement to create file node if it does not exist\n",
    "    create_file = \"MERGE (a:file {org: {org}, org_link: {org_link}, repo: {repo}, repo_link: {repo_link}, filename: {filename}, explicit_dep: {explicit_dep}, implicit_dep: {implicit_dep}})\"\n",
    "    ## Go through json and create nodes for all new files, orgs, repos, and dependencies\n",
    "    for entry in range(len(json_data)):\n",
    "        try:\n",
    "            prop = json_data[entry]\n",
    "            prop['explicit_dep'] = [x for x in prop['explicit_dep'] if x != None]\n",
    "            with driver.session() as session:\n",
    "                session.run(create_org, prop)\n",
    "                session.run(create_repo, prop)\n",
    "                session.run(create_file, prop)\n",
    "                for dep in prop['explicit_dep']:\n",
    "                    dep = {'dep': dep}\n",
    "                    session.run(create_dep, dep)\n",
    "                session.sync()\n",
    "            lod+=1\n",
    "        except Exception as e:\n",
    "            print(str(e))\n",
    "            print(entry)\n",
    "            pss+=1\n",
    "            pass\n",
    "    print(\"loaded: \"+str(lod))\n",
    "    print('skipped: '+str(pss))"
   ]
  },
  {
   "cell_type": "markdown",
   "metadata": {},
   "source": [
    "Run cell"
   ]
  },
  {
   "cell_type": "code",
   "execution_count": null,
   "metadata": {
    "collapsed": true
   },
   "outputs": [],
   "source": [
    "def create_relate():\n",
    "    \"\"\"Creates relationships between all the nodes\"\"\"\n",
    "    ## Create from relationship between files and the repos\n",
    "    repo_file_relate = 'MATCH (re:repo),(f:file) WHERE re.name = f.repo and re.repo_link = f.repo_link MERGE (f)-[r:from]->(re) RETURN r'\n",
    "    ## Create from relationship between repos and orgs\n",
    "    org_repo_relate = 'MATCH (o:org),(r:repo) WHERE o.name = r.org MERGE (r)-[f:from]->(o) RETURN f'\n",
    "    ## Create uses relationship between dependencies and files\n",
    "    dep_file_relate = 'MATCH (d:dependency),(f:file) WHERE d.name in f.explicit_dep MERGE (f)-[r:uses]->(d) RETURN r'\n",
    "    with driver.session() as session:\n",
    "        session.run(repo_file_relate)\n",
    "        session.run(org_repo_relate)\n",
    "        session.run(dep_file_relate)"
   ]
  },
  {
   "cell_type": "markdown",
   "metadata": {},
   "source": [
    "Run cell"
   ]
  },
  {
   "cell_type": "code",
   "execution_count": null,
   "metadata": {
    "collapsed": true
   },
   "outputs": [],
   "source": [
    "## Relitive path to the json data as seen in the github file structure for this repo\n",
    "json_paths = [\"scraped/18f.json\",\"scraped/NASA-rdt.json\",\"scraped/arcticlcc.json\",\n",
    "              \"scraped/ccmc.json\",\"scraped/cfpb.json\",\"scraped/cmsgov.json\",\"scraped/commercedataservice.json\",\n",
    "              \"scraped/defense-cyber-crime-center.json\",\"scraped/department-of-veterans-affairs.json\",\n",
    "              \"scraped/dhs-ncats.json\",\"scraped/energyapps.json\",\"scraped/eregs.json\",\"scraped/fcc.json\",\n",
    "              \"scraped/fda.json\",\"scraped/nasa-develop.json\",\"scraped/nasa.json\",\"scraped/nasa-gibs.json\",\"scraped/nasa.json\"]"
   ]
  },
  {
   "cell_type": "markdown",
   "metadata": {},
   "source": [
    "Run cell"
   ]
  },
  {
   "cell_type": "code",
   "execution_count": null,
   "metadata": {
    "collapsed": true
   },
   "outputs": [],
   "source": [
    "## Go through all the org jsons and load into the neo4j database as well as creating the relationships\n",
    "for path in json_paths:\n",
    "    data = ''\n",
    "    with open(path, 'r') as jsonf:\n",
    "        data = jsonf.read()\n",
    "    jdata = json.loads(data)\n",
    "    load_neo4j(jdata)\n",
    "create_relate()"
   ]
  },
  {
   "cell_type": "code",
   "execution_count": null,
   "metadata": {
    "collapsed": true
   },
   "outputs": [],
   "source": []
  }
 ],
 "metadata": {
  "kernelspec": {
   "display_name": "Python 3",
   "language": "python",
   "name": "python3"
  },
  "language_info": {
   "codemirror_mode": {
    "name": "ipython",
    "version": 3
   },
   "file_extension": ".py",
   "mimetype": "text/x-python",
   "name": "python",
   "nbconvert_exporter": "python",
   "pygments_lexer": "ipython3",
   "version": "3.5.2"
  }
 },
 "nbformat": 4,
 "nbformat_minor": 2
}
